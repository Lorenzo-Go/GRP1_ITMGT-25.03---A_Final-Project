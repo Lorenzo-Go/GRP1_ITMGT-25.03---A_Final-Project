{
 "cells": [
  {
   "cell_type": "code",
   "execution_count": 2,
   "id": "174bfa3c",
   "metadata": {},
   "outputs": [],
   "source": [
    "import numpy as np\n",
    "import pandas as pd\n",
    "import matplotlib.pyplot as plt"
   ]
  },
  {
   "cell_type": "code",
   "execution_count": 3,
   "id": "b03b7fd3",
   "metadata": {},
   "outputs": [],
   "source": [
    "df = pd.read_csv(\"./source_data/owid-covid-data.csv\")\n",
    "df['date'] = pd.to_datetime(df['date'])\n",
    "df_philippines = df.loc[((df[\"location\"]=='Philippines') & (df[\"date\"]>='2021-01-01'))]\n",
    "df_brunei = df.loc[((df[\"location\"]=='Brunei') & (df[\"date\"]>='2021-01-01'))]\n",
    "df_myanmar = df.loc[((df[\"location\"]=='Myanmar') & (df[\"date\"]>='2021-01-01'))]\n",
    "df_cambodia = df.loc[((df[\"location\"]=='Cambodia') & (df[\"date\"]>='2021-01-01'))]\n",
    "df_timor = df.loc[((df[\"location\"]=='Timor') & (df[\"date\"]>='2021-01-01'))]\n",
    "df_indonesia = df.loc[((df[\"location\"]=='Indonesia') & (df[\"date\"]>='2021-01-01'))]\n",
    "df_laos = df.loc[((df[\"location\"]=='Laos') & (df[\"date\"]>='2021-01-01'))]\n",
    "df_malaysia = df.loc[((df[\"location\"]=='Malaysia') & (df[\"date\"]>='2021-01-01'))]\n",
    "df_singapore = df.loc[((df[\"location\"]=='Singapore') & (df[\"date\"]>='2021-01-01'))]\n",
    "df_thailand = df.loc[((df[\"location\"]=='Thailand') & (df[\"date\"]>='2021-01-01'))]\n",
    "df_vietnam = df.loc[((df[\"location\"]=='Vietnam') & (df[\"date\"]>='2021-01-01'))]\n",
    "\n",
    "df_asiancountries = [df_philippines,df_brunei,df_myanmar,df_cambodia,df_timor,df_indonesia,df_laos,df_malaysia,df_singapore,df_singapore,df_thailand,df_vietnam]"
   ]
  },
  {
   "cell_type": "code",
   "execution_count": 4,
   "id": "a0206b73",
   "metadata": {},
   "outputs": [
    {
     "name": "stderr",
     "output_type": "stream",
     "text": [
      "<ipython-input-4-cc57f4b7ea3f>:1: SettingWithCopyWarning: \n",
      "A value is trying to be set on a copy of a slice from a DataFrame.\n",
      "Try using .loc[row_indexer,col_indexer] = value instead\n",
      "\n",
      "See the caveats in the documentation: https://pandas.pydata.org/pandas-docs/stable/user_guide/indexing.html#returning-a-view-versus-a-copy\n",
      "  df_philippines[\"people_fully_vaccinated\"] = df_philippines[\"people_fully_vaccinated\"].fillna(method=\"ffill\")\n"
     ]
    }
   ],
   "source": [
    "df_philippines[\"people_fully_vaccinated\"] = df_philippines[\"people_fully_vaccinated\"].fillna(method=\"ffill\")"
   ]
  },
  {
   "cell_type": "code",
   "execution_count": 9,
   "id": "c4812422",
   "metadata": {},
   "outputs": [
    {
     "name": "stderr",
     "output_type": "stream",
     "text": [
      "<ipython-input-9-9d593ac7dab9>:1: SettingWithCopyWarning: \n",
      "A value is trying to be set on a copy of a slice from a DataFrame.\n",
      "Try using .loc[row_indexer,col_indexer] = value instead\n",
      "\n",
      "See the caveats in the documentation: https://pandas.pydata.org/pandas-docs/stable/user_guide/indexing.html#returning-a-view-versus-a-copy\n",
      "  df_philippines[\"stringency_index\"] = df_philippines[\"stringency_index\"].fillna(method=\"ffill\")\n"
     ]
    }
   ],
   "source": [
    "df_philippines[\"stringency_index\"] = df_philippines[\"stringency_index\"].fillna(method=\"ffill\")"
   ]
  },
  {
   "cell_type": "code",
   "execution_count": 10,
   "id": "7476f9a3",
   "metadata": {},
   "outputs": [
    {
     "data": {
      "text/plain": [
       "76756    55.09\n",
       "76757    55.09\n",
       "76758    55.09\n",
       "76759    55.09\n",
       "76760    55.09\n",
       "         ...  \n",
       "76964    71.76\n",
       "76965    71.76\n",
       "76966    71.76\n",
       "76967    71.76\n",
       "76968    71.76\n",
       "Name: stringency_index, Length: 213, dtype: float64"
      ]
     },
     "execution_count": 10,
     "metadata": {},
     "output_type": "execute_result"
    }
   ],
   "source": [
    "df_philippines[\"stringency_index\"]"
   ]
  },
  {
   "cell_type": "code",
   "execution_count": null,
   "id": "ae0b9e83",
   "metadata": {},
   "outputs": [],
   "source": []
  }
 ],
 "metadata": {
  "kernelspec": {
   "display_name": "Python 3",
   "language": "python",
   "name": "python3"
  },
  "language_info": {
   "codemirror_mode": {
    "name": "ipython",
    "version": 3
   },
   "file_extension": ".py",
   "mimetype": "text/x-python",
   "name": "python",
   "nbconvert_exporter": "python",
   "pygments_lexer": "ipython3",
   "version": "3.8.8"
  }
 },
 "nbformat": 4,
 "nbformat_minor": 5
}
